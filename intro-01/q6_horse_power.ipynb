{
 "cells": [
  {
   "cell_type": "code",
   "execution_count": 5,
   "id": "e232c076-7e97-4c82-967c-7c75518b235f",
   "metadata": {},
   "outputs": [],
   "source": [
    "import pandas as pd"
   ]
  },
  {
   "cell_type": "code",
   "execution_count": 6,
   "id": "696e9f2a-2a59-4fbe-8ed5-ee7e9e9c67ed",
   "metadata": {},
   "outputs": [],
   "source": [
    "df = pd.read_csv(\"https://raw.githubusercontent.com/alexeygrigorev/datasets/master/car_fuel_efficiency.csv\")"
   ]
  },
  {
   "cell_type": "code",
   "execution_count": 8,
   "id": "7052c6c4-b089-4c83-8153-b77cc7b568b0",
   "metadata": {},
   "outputs": [
    {
     "name": "stdout",
     "output_type": "stream",
     "text": [
      "Median before: 149.0\n",
      "Most frequent value (mode): 152.0\n",
      "Median after: 152.0\n",
      "Answer: Yes, it increased\n"
     ]
    }
   ],
   "source": [
    "# 1. Median value of horsepower before filling\n",
    "median_before = df['horsepower'].median()\n",
    "print(\"Median before:\", median_before)\n",
    "\n",
    "# 2. Most frequent (mode) value of horsepower\n",
    "most_freq = df['horsepower'].mode()[0]\n",
    "print(\"Most frequent value (mode):\", most_freq)\n",
    "\n",
    "# 3. Fill missing horsepower with the mode\n",
    "df_filled = df.copy()\n",
    "df_filled['horsepower'] = df_filled['horsepower'].fillna(most_freq)\n",
    "\n",
    "# 4. Median value after filling\n",
    "median_after = df_filled['horsepower'].median()\n",
    "print(\"Median after:\", median_after)\n",
    "\n",
    "# 5. Compare\n",
    "if median_after > median_before:\n",
    "    print(\"Answer: Yes, it increased\")\n",
    "elif median_after < median_before:\n",
    "    print(\"Answer: Yes, it decreased\")\n",
    "else:\n",
    "    print(\"Answer: No\")\n"
   ]
  }
 ],
 "metadata": {
  "kernelspec": {
   "display_name": "Python 3 (ipykernel)",
   "language": "python",
   "name": "python3"
  },
  "language_info": {
   "codemirror_mode": {
    "name": "ipython",
    "version": 3
   },
   "file_extension": ".py",
   "mimetype": "text/x-python",
   "name": "python",
   "nbconvert_exporter": "python",
   "pygments_lexer": "ipython3",
   "version": "3.12.1"
  }
 },
 "nbformat": 4,
 "nbformat_minor": 5
}
