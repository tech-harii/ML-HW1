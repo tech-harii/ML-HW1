{
 "cells": [
  {
   "cell_type": "code",
   "execution_count": 1,
   "id": "c6150998-739f-40ca-95a0-b59fff173acd",
   "metadata": {},
   "outputs": [],
   "source": [
    "import pandas as pd\n",
    "import numpy as np"
   ]
  },
  {
   "cell_type": "code",
   "execution_count": 2,
   "id": "c69a40f8-a0f6-4b7c-bd45-79851441c14a",
   "metadata": {},
   "outputs": [],
   "source": [
    "df = pd.read_csv(\"https://raw.githubusercontent.com/alexeygrigorev/datasets/master/car_fuel_efficiency.csv\")"
   ]
  },
  {
   "cell_type": "code",
   "execution_count": 3,
   "id": "3889ab53-22a6-455d-9de5-1f59553b1083",
   "metadata": {},
   "outputs": [
    {
     "name": "stdout",
     "output_type": "stream",
     "text": [
      "Sum of weights (w): 0.5187709081074016\n"
     ]
    }
   ],
   "source": [
    "# 1. Select cars from Asia\n",
    "asia_cars = df[df['origin'] == 'Asia']\n",
    "\n",
    "# 2. Select vehicle_weight and model_year\n",
    "asia_subset = asia_cars[['vehicle_weight', 'model_year']]\n",
    "\n",
    "# 3. Select the first 7 values\n",
    "asia_subset = asia_subset.head(7)\n",
    "\n",
    "# 4. NumPy array\n",
    "X = asia_subset.values\n",
    "\n",
    "# 5. XTX\n",
    "XTX = X.T.dot(X)\n",
    "\n",
    "# 6. Invert (XTX)\n",
    "XTX_inv = np.linalg.inv(XTX)\n",
    "\n",
    "# 7. Creating array y\n",
    "y = np.array([1100, 1300, 800, 900, 1000, 1100, 1200])\n",
    "\n",
    "# 8. Compute w = (XTX_inv * X.T) * y\n",
    "w = XTX_inv.dot(X.T).dot(y)\n",
    "\n",
    "# 9. Sum of all elements of w\n",
    "result = w.sum()\n",
    "\n",
    "print(\"Sum of weights (w):\", result)\n"
   ]
  }
 ],
 "metadata": {
  "kernelspec": {
   "display_name": "Python 3 (ipykernel)",
   "language": "python",
   "name": "python3"
  },
  "language_info": {
   "codemirror_mode": {
    "name": "ipython",
    "version": 3
   },
   "file_extension": ".py",
   "mimetype": "text/x-python",
   "name": "python",
   "nbconvert_exporter": "python",
   "pygments_lexer": "ipython3",
   "version": "3.12.1"
  }
 },
 "nbformat": 4,
 "nbformat_minor": 5
}
